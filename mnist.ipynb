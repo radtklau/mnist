{
 "cells": [
  {
   "cell_type": "markdown",
   "metadata": {},
   "source": [
    "# Computer Vision Homework | MNIST"
   ]
  },
  {
   "cell_type": "markdown",
   "metadata": {},
   "source": [
    "### Importing Necessary Packages"
   ]
  },
  {
   "cell_type": "code",
   "execution_count": 7,
   "metadata": {},
   "outputs": [],
   "source": [
    "import pandas as pd\n",
    "import numpy as np\n",
    "import random\n",
    "import matplotlib.pyplot as plt\n",
    "from sklearn.model_selection import train_test_split\n",
    "from sklearn.dummy import DummyClassifier\n",
    "from sklearn.metrics import accuracy_score\n",
    "from sklearn.preprocessing import StandardScaler\n",
    "from sklearn.linear_model import LogisticRegression\n",
    "from tensorflow.keras import layers, models"
   ]
  },
  {
   "cell_type": "markdown",
   "metadata": {},
   "source": [
    "### Importing Data"
   ]
  },
  {
   "cell_type": "code",
   "execution_count": 8,
   "metadata": {},
   "outputs": [],
   "source": [
    "sample_submission = pd.read_csv('data/mnist/sample_submission.csv')\n",
    "test = pd.read_csv('data/mnist/test.csv')\n",
    "train = pd.read_csv('data/mnist/train.csv')"
   ]
  },
  {
   "cell_type": "markdown",
   "metadata": {},
   "source": [
    "### Data Formatting"
   ]
  },
  {
   "cell_type": "code",
   "execution_count": 9,
   "metadata": {},
   "outputs": [],
   "source": [
    "# extract the labels\n",
    "labels = train.iloc[:, 0].values\n",
    "# extract the features\n",
    "features = train.iloc[:, 1:].values\n",
    "\n",
    "#reshape each row to 28x28\n",
    "features = features.reshape(features.shape[0], 28, 28)\n"
   ]
  },
  {
   "cell_type": "markdown",
   "metadata": {},
   "source": [
    "### Initial Analysis"
   ]
  },
  {
   "cell_type": "code",
   "execution_count": 10,
   "metadata": {},
   "outputs": [
    {
     "name": "stdout",
     "output_type": "stream",
     "text": [
      "The train dataset containes 42000 images.\n",
      "Each image has a size of 28x28.\n",
      "\n",
      "The labels array has 42000 rows.\n",
      "\n",
      "The test dataset has 28000 rows and 784 columns.\n",
      "That means it has 28000 images with 784 pixels each, the first column however it does not contain the labels.\n",
      "\n"
     ]
    }
   ],
   "source": [
    "#small analysis of dataset\n",
    "print(f\"The train dataset containes {features.shape[0]} images.\")\n",
    "print(f\"Each image has a size of {features.shape[1]}x{features.shape[2]}.\\n\")\n",
    "\n",
    "print(f\"The labels array has {labels.shape[0]} rows.\\n\")\n",
    "\n",
    "print(f\"The test dataset has {test.shape[0]} rows and {test.shape[1]} columns.\")\n",
    "print(\"That means it has 28000 images with 784 pixels each, the first column \\\n",
    "however it does not contain the labels.\\n\")"
   ]
  },
  {
   "cell_type": "code",
   "execution_count": 11,
   "metadata": {},
   "outputs": [
    {
     "name": "stdout",
     "output_type": "stream",
     "text": [
      "This is how a single image looks like:\n"
     ]
    },
    {
     "data": {
      "image/png": "[encoded data removed]",
      "text/plain": [
       "<Figure size 640x480 with 1 Axes>"
      ]
     },
     "metadata": {},
     "output_type": "display_data"
    }
   ],
   "source": [
    "print(\"This is how a single image looks like:\")\n",
    "random_ind = random.randint(1,42000)\n",
    "random_sample = features[random_ind]\n",
    "label = labels[random_ind]\n",
    "random_sample = random_sample.reshape((28, 28))\n",
    "\n",
    "plt.imshow(random_sample, cmap='gray')\n",
    "plt.axis('off')\n",
    "plt.title(f\"Random sample from the dataset with label {label}\")\n",
    "plt.show()"
   ]
  },
  {
   "cell_type": "code",
   "execution_count": 12,
   "metadata": {},
   "outputs": [
    {
     "name": "stdout",
     "output_type": "stream",
     "text": [
      "The number of samples per label is:\n",
      "[4132 4684 4177 4351 4072 3795 4137 4401 4063 4188]\n"
     ]
    },
    {
     "data": {
      "image/png": "[encoded data removed]",
      "text/plain": [
       "<Figure size 640x480 with 1 Axes>"
      ]
     },
     "metadata": {},
     "output_type": "display_data"
    }
   ],
   "source": [
    "label_counts = np.unique(labels, return_counts=True)\n",
    "print(\"The number of samples per label is:\")\n",
    "print(label_counts[1]) \n",
    "\n",
    "plt.bar(label_counts[0], label_counts[1], color='skyblue')\n",
    "plt.xlabel('Label')\n",
    "plt.ylabel('Count')\n",
    "plt.title('Label Counts')\n",
    "plt.xticks(ticks=np.arange(10))\n",
    "plt.yscale('log')\n",
    "plt.show()"
   ]
  },
  {
   "cell_type": "markdown",
   "metadata": {},
   "source": [
    "### Preprocessing"
   ]
  },
  {
   "cell_type": "code",
   "execution_count": 13,
   "metadata": {},
   "outputs": [],
   "source": [
    "def preprocessing(features, labels):\n",
    "    #expects grayscale images\n",
    "    num_samples, image_rows, image_columns = features.shape\n",
    "    # convert to float\n",
    "    features = features.astype('float32')\n",
    "    \n",
    "    # reshape to 1 channel\n",
    "    features = features.reshape(num_samples, image_rows, image_columns, 1)\n",
    "    \n",
    "    X_train_temp, X_temp, y_train_temp, y_temp = train_test_split(features, labels, test_size=0.2, random_state=42)\n",
    "    \n",
    "    # Split the temporary set into validation and test sets\n",
    "    X_train, X_validation, y_train, y_validation = train_test_split(X_train_temp, y_train_temp, test_size=0.25, random_state=42)\n",
    "    X_test, X_validation, y_test, y_validation = train_test_split(X_temp, y_temp, test_size=0.5, random_state=42)\n",
    "    \n",
    "    #scaling\n",
    "    scaler = StandardScaler()\n",
    "    X_train = X_train.reshape((X_train.shape[0], image_rows * image_columns))\n",
    "    X_validation = X_validation.reshape((X_validation.shape[0], image_rows * image_columns))\n",
    "    X_test = X_test.reshape((X_test.shape[0], image_rows * image_columns))\n",
    "    \n",
    "    X_train = scaler.fit_transform(X_train)\n",
    "    X_validation= scaler.transform(X_validation)\n",
    "    X_test = scaler.transform(X_test)\n",
    "    \n",
    "    X_train = X_train.reshape((X_train.shape[0], image_rows, image_columns, 1))\n",
    "    X_validation = X_validation.reshape((X_validation.shape[0], image_rows, image_columns, 1))\n",
    "    X_test = X_test.reshape((X_test.shape[0], image_rows, image_columns, 1))\n",
    "\n",
    "    return X_train, X_test, X_validation, y_train, y_test, y_validation"
   ]
  },
  {
   "cell_type": "markdown",
   "metadata": {},
   "source": [
    "### Baseline Model"
   ]
  },
  {
   "cell_type": "code",
   "execution_count": 14,
   "metadata": {},
   "outputs": [],
   "source": [
    "def baseline_model(X_train, X_test, X_validation, y_train, y_test, y_validation):\n",
    "    dummy_classifier = DummyClassifier(strategy=\"most_frequent\") #using \"most frequent\" strategy\n",
    "    dummy_classifier.fit(X_train, y_train)\n",
    "\n",
    "    y_val_pred = dummy_classifier.predict(X_validation)\n",
    "    val_accuracy = accuracy_score(y_validation, y_val_pred)\n",
    "    print(f\"Accuracy on validation set: {val_accuracy:.4f}\")\n",
    "    \n",
    "    y_pred = dummy_classifier.predict(X_test)\n",
    "    accuracy = accuracy_score(y_test, y_pred)\n",
    "    print(f\"Accuracy on test set: {accuracy:.4f}\")"
   ]
  },
  {
   "cell_type": "markdown",
   "metadata": {},
   "source": [
    "### Linear Model"
   ]
  },
  {
   "cell_type": "code",
   "execution_count": 15,
   "metadata": {},
   "outputs": [],
   "source": [
    "def linear_model(X_train, X_test, X_validation, y_train, y_test, y_validation):\n",
    "    num_samples, num_channels, height, width = X_train.shape\n",
    "    X_train_flattened = X_train.reshape((num_samples, num_channels * height * width))\n",
    "    num_samples_test, _, _, _ = X_test.shape\n",
    "    X_test_flattened = X_test.reshape((num_samples_test, num_channels * height * width))\n",
    "    X_validation_flattened = X_validation.reshape((X_validation.shape[0], num_channels * height * width))   \n",
    "    \n",
    "    logistic_regression = LogisticRegression(max_iter=1000, C=1)\n",
    "    logistic_regression.fit(X_train_flattened, y_train)\n",
    "    \n",
    "    # Evaluate on the Validation Set\n",
    "    y_val_pred = logistic_regression.predict(X_validation_flattened)\n",
    "    val_accuracy = accuracy_score(y_validation, y_val_pred)\n",
    "    print(f\"Accuracy on validation set: {val_accuracy:.4f}\")\n",
    "\n",
    "    # Evaluate on the Test Set\n",
    "    y_test_pred = logistic_regression.predict(X_test_flattened)\n",
    "    test_accuracy = accuracy_score(y_test, y_test_pred)\n",
    "    print(f\"Accuracy on test set: {test_accuracy:.4f}\")"
   ]
  },
  {
   "cell_type": "markdown",
   "metadata": {},
   "source": [
    "### CNN"
   ]
  },
  {
   "cell_type": "code",
   "execution_count": 16,
   "metadata": {},
   "outputs": [],
   "source": [
    "def cnn(X_train, X_test, X_validation, y_train, y_test, y_validation, num_classes):\n",
    "    #print(X_train[0])\n",
    "    # Create a simple CNN model\n",
    "    model = models.Sequential()\n",
    "    model.add(layers.Conv2D(32, (3, 3), activation='relu', input_shape=(28, 28, 1)))\n",
    "    model.add(layers.MaxPooling2D((2, 2)))\n",
    "    model.add(layers.Conv2D(64, (3, 3), activation='relu'))\n",
    "    model.add(layers.MaxPooling2D((2, 2)))\n",
    "    model.add(layers.Conv2D(64, (3, 3), activation='relu'))\n",
    "    model.add(layers.Flatten())\n",
    "    model.add(layers.Dense(64, activation='relu'))\n",
    "    model.add(layers.Dense(num_classes, activation='softmax'))  # Output layer with 10 classes\n",
    "\n",
    "    # Compile the model\n",
    "    model.compile(optimizer='adam',\n",
    "                loss='sparse_categorical_crossentropy',\n",
    "                metrics=['accuracy'])\n",
    "    \n",
    "    history = model.fit(X_train, y_train, epochs=20, validation_data=(X_validation, y_validation))\n",
    "    \n",
    "    plt.plot(history.history['accuracy'], label='Training Accuracy')\n",
    "    plt.plot(history.history['val_accuracy'], label='Validation Accuracy')\n",
    "    plt.xlabel('Epoch')\n",
    "    plt.ylabel('Accuracy')\n",
    "    plt.legend()\n",
    "    plt.show()\n",
    "    \n",
    "    #evaluate the model\n",
    "    test_loss, test_accuracy = model.evaluate(X_test, y_test)\n",
    "\n",
    "    print(f'Test Loss: {test_loss:.4f}')\n",
    "    print(f'Test Accuracy: {test_accuracy:.4f}')"
   ]
  },
  {
   "cell_type": "markdown",
   "metadata": {},
   "source": [
    "### Pipeline"
   ]
  },
  {
   "cell_type": "code",
   "execution_count": 17,
   "metadata": {},
   "outputs": [],
   "source": [
    "def pipeline(features, labels, num_classes):\n",
    "    X_train, X_test, X_validation, y_train, y_test, y_validation = preprocessing(features, labels)\n",
    "    print(\"-------------------\")\n",
    "    print(\"Baseline model:\")\n",
    "    baseline_model(X_train, X_test, X_validation, y_train, y_test, y_validation)\n",
    "    print(\"-------------------\")\n",
    "    print(\"Linear model:\")\n",
    "    linear_model(X_train, X_test, X_validation, y_train, y_test, y_validation)\n",
    "    print(\"-------------------\")\n",
    "    print(\"CNN model:\")\n",
    "    cnn(X_train, X_test, X_validation, y_train, y_test, y_validation, num_classes=num_classes)\n",
    "    print(\"-------------------\")"
   ]
  },
  {
   "cell_type": "code",
   "execution_count": 18,
   "metadata": {},
   "outputs": [
    {
     "name": "stdout",
     "output_type": "stream",
     "text": [
      "-------------------\n",
      "Baseline model:\n",
      "Accuracy on validation set: 0.1083\n",
      "Accuracy on test set: 0.1081\n",
      "-------------------\n",
      "Linear model:\n",
      "Accuracy on validation set: 0.8983\n",
      "Accuracy on test set: 0.8990\n",
      "-------------------\n",
      "CNN model:\n",
      "Epoch 1/5\n",
      "788/788 [==============================] - 22s 26ms/step - loss: 0.2115 - accuracy: 0.9367 - val_loss: 0.0935 - val_accuracy: 0.9721\n",
      "Epoch 2/5\n",
      "788/788 [==============================] - 20s 25ms/step - loss: 0.0639 - accuracy: 0.9794 - val_loss: 0.0545 - val_accuracy: 0.9833\n",
      "Epoch 3/5\n",
      "788/788 [==============================] - 20s 25ms/step - loss: 0.0431 - accuracy: 0.9865 - val_loss: 0.0443 - val_accuracy: 0.9867\n",
      "Epoch 4/5\n",
      "788/788 [==============================] - 21s 27ms/step - loss: 0.0301 - accuracy: 0.9901 - val_loss: 0.0526 - val_accuracy: 0.9838\n",
      "Epoch 5/5\n",
      "788/788 [==============================] - 22s 28ms/step - loss: 0.0273 - accuracy: 0.9914 - val_loss: 0.0506 - val_accuracy: 0.9817\n"
     ]
    },
    {
     "data": {
      "image/png": "[encoded data removed]",
      "text/plain": [
       "<Figure size 640x480 with 1 Axes>"
      ]
     },
     "metadata": {},
     "output_type": "display_data"
    },
    {
     "name": "stdout",
     "output_type": "stream",
     "text": [
      "132/132 [==============================] - 1s 8ms/step - loss: 0.0442 - accuracy: 0.9864\n",
      "Test Loss: 0.0442\n",
      "Test Accuracy: 0.9864\n",
      "-------------------\n"
     ]
    }
   ],
   "source": [
    "pipeline(features, labels, 10)"
   ]
  }
 ],
 "metadata": {
  "kernelspec": {
   "display_name": "Python 3",
   "language": "python",
   "name": "python3"
  },
  "language_info": {
   "codemirror_mode": {
    "name": "ipython",
    "version": 3
   },
   "file_extension": ".py",
   "mimetype": "text/x-python",
   "name": "python",
   "nbconvert_exporter": "python",
   "pygments_lexer": "ipython3",
   "version": "3.10.7"
  }
 },
 "nbformat": 4,
 "nbformat_minor": 2
}

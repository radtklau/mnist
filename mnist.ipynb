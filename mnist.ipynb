{
 "cells": [
  {
   "cell_type": "markdown",
   "metadata": {},
   "source": [
    "# Computer Vision Homework | MNIST"
   ]
  },
  {
   "cell_type": "markdown",
   "metadata": {},
   "source": [
    "### Importing Necessary Packages"
   ]
  },
  {
   "cell_type": "code",
   "execution_count": 58,
   "metadata": {},
   "outputs": [],
   "source": [
    "import torch\n",
    "import torch.nn as nn\n",
    "import torch.optim as optim\n",
    "from torchvision import transforms, datasets, models\n",
    "from torch.utils.data import DataLoader, TensorDataset\n",
    "import pandas as pd\n",
    "import numpy as np\n",
    "import random\n",
    "import matplotlib.pyplot as plt\n",
    "from sklearn.model_selection import train_test_split\n",
    "from sklearn.dummy import DummyClassifier\n",
    "from sklearn.metrics import accuracy_score\n",
    "from sklearn.preprocessing import StandardScaler\n",
    "from tqdm import tqdm\n",
    "from sklearn.preprocessing import MinMaxScaler\n",
    "from sklearn.linear_model import LogisticRegression\n",
    "import tensorflow as tf\n",
    "from tensorflow.keras import layers, models"
   ]
  },
  {
   "cell_type": "markdown",
   "metadata": {},
   "source": [
    "### Importing Data"
   ]
  },
  {
   "cell_type": "code",
   "execution_count": 28,
   "metadata": {},
   "outputs": [],
   "source": [
    "sample_submission = pd.read_csv('data/mnist/sample_submission.csv')\n",
    "test = pd.read_csv('data/mnist/test.csv')\n",
    "train = pd.read_csv('data/mnist/train.csv')"
   ]
  },
  {
   "cell_type": "markdown",
   "metadata": {},
   "source": [
    "### Data Formatting"
   ]
  },
  {
   "cell_type": "code",
   "execution_count": 50,
   "metadata": {},
   "outputs": [],
   "source": [
    "# extract the labels\n",
    "labels = train.iloc[:, 0].values\n",
    "# extract the features\n",
    "features = train.iloc[:, 1:].values\n",
    "\n",
    "#reshape each row to 28x28\n",
    "features = features.reshape(features.shape[0], 28, 28)\n"
   ]
  },
  {
   "cell_type": "markdown",
   "metadata": {},
   "source": [
    "### Initial Analysis"
   ]
  },
  {
   "cell_type": "code",
   "execution_count": 44,
   "metadata": {},
   "outputs": [
    {
     "name": "stdout",
     "output_type": "stream",
     "text": [
      "The train dataset containes 42000 images.\n",
      "Each image has a size of 28x28.\n",
      "\n",
      "The labels array has 42000 rows.\n",
      "\n",
      "The test dataset has 28000 rows and 784 columns.\n",
      "That means it has 28000 images with 784 pixels each, the first column however it does not contain the labels.\n",
      "\n"
     ]
    }
   ],
   "source": [
    "#small analysis of dataset\n",
    "print(f\"The train dataset containes {features.shape[0]} images.\")\n",
    "print(f\"Each image has a size of {features.shape[1]}x{features.shape[2]}.\\n\")\n",
    "\n",
    "print(f\"The labels array has {labels.shape[0]} rows.\\n\")\n",
    "\n",
    "print(f\"The test dataset has {test.shape[0]} rows and {test.shape[1]} columns.\")\n",
    "print(\"That means it has 28000 images with 784 pixels each, the first column \\\n",
    "however it does not contain the labels.\\n\")"
   ]
  },
  {
   "cell_type": "code",
   "execution_count": 48,
   "metadata": {},
   "outputs": [
    {
     "name": "stdout",
     "output_type": "stream",
     "text": [
      "This is how a single image looks like:\n"
     ]
    },
    {
     "data": {
      "image/png": "[encoded data removed]",
      "text/plain": [
       "<Figure size 640x480 with 1 Axes>"
      ]
     },
     "metadata": {},
     "output_type": "display_data"
    }
   ],
   "source": [
    "print(\"This is how a single image looks like:\")\n",
    "random_ind = random.randint(1,42000)\n",
    "random_sample = features[random_ind]\n",
    "label = labels[random_ind]\n",
    "random_sample = random_sample.reshape((28, 28))\n",
    "\n",
    "plt.imshow(random_sample, cmap='gray')\n",
    "plt.axis('off')\n",
    "plt.title(f\"Random sample from the dataset with label {label}\")\n",
    "plt.show()"
   ]
  },
  {
   "cell_type": "code",
   "execution_count": 75,
   "metadata": {},
   "outputs": [
    {
     "name": "stdout",
     "output_type": "stream",
     "text": [
      "The number of samples per label is:\n",
      "[4132 4684 4177 4351 4072 3795 4137 4401 4063 4188]\n"
     ]
    },
    {
     "data": {
      "image/png": "[encoded data removed]",
      "text/plain": [
       "<Figure size 640x480 with 1 Axes>"
      ]
     },
     "metadata": {},
     "output_type": "display_data"
    }
   ],
   "source": [
    "label_counts = np.unique(labels, return_counts=True)\n",
    "print(\"The number of samples per label is:\")\n",
    "print(label_counts[1]) \n",
    "\n",
    "plt.bar(label_counts[0], label_counts[1], color='skyblue')\n",
    "plt.xlabel('Label')\n",
    "plt.ylabel('Count')\n",
    "plt.title('Label Counts')\n",
    "plt.xticks(ticks=np.arange(10))\n",
    "plt.yscale('log')\n",
    "plt.show()"
   ]
  },
  {
   "cell_type": "markdown",
   "metadata": {},
   "source": [
    "### Preprocessing"
   ]
  },
  {
   "cell_type": "code",
   "execution_count": 134,
   "metadata": {},
   "outputs": [],
   "source": [
    "def preprocessing(features, labels):\n",
    "    #expects grayscale images\n",
    "    num_samples, image_rows, image_columns = features.shape\n",
    "    # convert to float\n",
    "    features = features.astype('float32')\n",
    "    \n",
    "    # reshape to 1 channel\n",
    "    features = features.reshape(num_samples, image_rows, image_columns, 1)\n",
    "    \n",
    "    X_train_temp, X_temp, y_train_temp, y_temp = train_test_split(features, labels, test_size=0.2, random_state=42)\n",
    "    \n",
    "    # Split the temporary set into validation and test sets\n",
    "    X_train, X_validation, y_train, y_validation = train_test_split(X_train_temp, y_train_temp, test_size=0.25, random_state=42)\n",
    "    X_test, X_validation, y_test, y_validation = train_test_split(X_temp, y_temp, test_size=0.5, random_state=42)\n",
    "    \n",
    "    #scaling\n",
    "    scaler = StandardScaler()\n",
    "    X_train = X_train.reshape((X_train.shape[0], image_rows * image_columns))\n",
    "    X_validation = X_validation.reshape((X_validation.shape[0], image_rows * image_columns))\n",
    "    X_test = X_test.reshape((X_test.shape[0], image_rows * image_columns))\n",
    "    \n",
    "    X_train = scaler.fit_transform(X_train)\n",
    "    X_validation= scaler.transform(X_validation)\n",
    "    X_test = scaler.transform(X_test)\n",
    "    \n",
    "    X_train = X_train.reshape((X_train.shape[0], image_rows, image_columns, 1))\n",
    "    X_validation = X_validation.reshape((X_validation.shape[0], image_rows, image_columns, 1))\n",
    "    X_test = X_test.reshape((X_test.shape[0], image_rows, image_columns, 1))\n",
    "\n",
    "    return X_train, X_test, X_validation, y_train, y_test, y_validation"
   ]
  },
  {
   "cell_type": "markdown",
   "metadata": {},
   "source": [
    "### Baseline Model"
   ]
  },
  {
   "cell_type": "code",
   "execution_count": 135,
   "metadata": {},
   "outputs": [],
   "source": [
    "def baseline_model(X_train, X_test, X_validation, y_train, y_test, y_validation):\n",
    "    dummy_classifier = DummyClassifier(strategy=\"most_frequent\") #using \"most frequent\" strategy\n",
    "    dummy_classifier.fit(X_train, y_train)\n",
    "\n",
    "    y_val_pred = dummy_classifier.predict(X_validation)\n",
    "    val_accuracy = accuracy_score(y_validation, y_val_pred)\n",
    "    print(f\"Accuracy on validation set: {val_accuracy:.4f}\")\n",
    "    \n",
    "    y_pred = dummy_classifier.predict(X_test)\n",
    "    accuracy = accuracy_score(y_test, y_pred)\n",
    "    print(f\"Accuracy on test set: {accuracy:.4f}\")"
   ]
  },
  {
   "cell_type": "markdown",
   "metadata": {},
   "source": [
    "### Linear Model"
   ]
  },
  {
   "cell_type": "code",
   "execution_count": 123,
   "metadata": {},
   "outputs": [],
   "source": [
    "def linear_model(X_train, X_test, X_validation, y_train, y_test, y_validation):\n",
    "    num_samples, num_channels, height, width = X_train.shape\n",
    "    X_train_flattened = X_train.reshape((num_samples, num_channels * height * width))\n",
    "    num_samples_test, _, _, _ = X_test.shape\n",
    "    X_test_flattened = X_test.reshape((num_samples_test, num_channels * height * width))\n",
    "    X_validation_flattened = X_validation.reshape((X_validation.shape[0], num_channels * height * width))   \n",
    "    \n",
    "    \n",
    "    logistic_regression = LogisticRegression(max_iter=1000, C=1)\n",
    "    logistic_regression.fit(X_train_flattened, y_train)\n",
    "    \n",
    "    # Evaluate on the Validation Set\n",
    "    y_val_pred = logistic_regression.predict(X_validation_flattened)\n",
    "    val_accuracy = accuracy_score(y_validation, y_val_pred)\n",
    "    print(f\"Accuracy on validation set: {val_accuracy:.4f}\")\n",
    "\n",
    "    # Evaluate on the Test Set\n",
    "    y_test_pred = logistic_regression.predict(X_test_flattened)\n",
    "    test_accuracy = accuracy_score(y_test, y_test_pred)\n",
    "    print(f\"Accuracy on test set: {test_accuracy:.4f}\")"
   ]
  },
  {
   "cell_type": "markdown",
   "metadata": {},
   "source": [
    "### CNN"
   ]
  },
  {
   "cell_type": "code",
   "execution_count": 139,
   "metadata": {},
   "outputs": [],
   "source": [
    "def cnn(X_train, X_test, X_validation, y_train, y_test, y_validation):\n",
    "    #print(X_train[0])\n",
    "    # Create a simple CNN model\n",
    "    model = models.Sequential()\n",
    "    model.add(layers.Conv2D(32, (3, 3), activation='relu', input_shape=(28, 28, 1)))\n",
    "    model.add(layers.MaxPooling2D((2, 2)))\n",
    "    model.add(layers.Conv2D(64, (3, 3), activation='relu'))\n",
    "    model.add(layers.MaxPooling2D((2, 2)))\n",
    "    model.add(layers.Conv2D(64, (3, 3), activation='relu'))\n",
    "    model.add(layers.Flatten())\n",
    "    model.add(layers.Dense(64, activation='relu'))\n",
    "    model.add(layers.Dense(10, activation='softmax'))  # Output layer with 10 classes\n",
    "\n",
    "    # Compile the model\n",
    "    model.compile(optimizer='adam',\n",
    "                loss='sparse_categorical_crossentropy',\n",
    "                metrics=['accuracy'])\n",
    "    \n",
    "    history = model.fit(X_train, y_train, epochs=5, validation_data=(X_validation, y_validation))\n",
    "    \n",
    "    plt.plot(history.history['accuracy'], label='Training Accuracy')\n",
    "    plt.plot(history.history['val_accuracy'], label='Validation Accuracy')\n",
    "    plt.xlabel('Epoch')\n",
    "    plt.ylabel('Accuracy')\n",
    "    plt.legend()\n",
    "    plt.show()\n",
    "    \n",
    "    #evaluate the model\n",
    "    test_loss, test_accuracy = model.evaluate(X_test, y_test)\n",
    "\n",
    "    print(f'Test Loss: {test_loss:.4f}')\n",
    "    print(f'Test Accuracy: {test_accuracy:.4f}')"
   ]
  },
  {
   "cell_type": "markdown",
   "metadata": {},
   "source": [
    "### Pipeline"
   ]
  },
  {
   "cell_type": "code",
   "execution_count": 141,
   "metadata": {},
   "outputs": [],
   "source": [
    "def pipeline(features, labels):\n",
    "    X_train, X_test, X_validation, y_train, y_test, y_validation = preprocessing(features, labels)\n",
    "    print(\"-------------------\")\n",
    "    print(\"Baseline model:\")\n",
    "    baseline_model(X_train, X_test, X_validation, y_train, y_test, y_validation)\n",
    "    print(\"-------------------\")\n",
    "    print(\"Linear model:\")\n",
    "    linear_model(X_train, X_test, X_validation, y_train, y_test, y_validation)\n",
    "    print(\"-------------------\")\n",
    "    print(\"CNN model:\")\n",
    "    cnn(X_train, X_test, X_validation, y_train, y_test, y_validation)\n",
    "    print(\"-------------------\")"
   ]
  },
  {
   "cell_type": "code",
   "execution_count": 142,
   "metadata": {},
   "outputs": [
    {
     "name": "stdout",
     "output_type": "stream",
     "text": [
      "-------------------\n",
      "Baseline model:\n",
      "Accuracy on validation set: 0.1083\n",
      "Accuracy on test set: 0.1081\n",
      "-------------------\n",
      "Linear model:\n",
      "Accuracy on Validation Set: 0.8983\n",
      "Accuracy on Test Set: 0.8990\n",
      "-------------------\n",
      "CNN model:\n",
      "Epoch 1/5\n",
      "788/788 [==============================] - 19s 22ms/step - loss: 0.2136 - accuracy: 0.9354 - val_loss: 0.0747 - val_accuracy: 0.9752\n",
      "Epoch 2/5\n",
      "788/788 [==============================] - 18s 23ms/step - loss: 0.0600 - accuracy: 0.9819 - val_loss: 0.0501 - val_accuracy: 0.9843\n",
      "Epoch 3/5\n",
      "788/788 [==============================] - 18s 23ms/step - loss: 0.0425 - accuracy: 0.9863 - val_loss: 0.0487 - val_accuracy: 0.9836\n",
      "Epoch 4/5\n",
      "788/788 [==============================] - 18s 23ms/step - loss: 0.0314 - accuracy: 0.9902 - val_loss: 0.0511 - val_accuracy: 0.9848\n",
      "Epoch 5/5\n",
      "788/788 [==============================] - 18s 23ms/step - loss: 0.0249 - accuracy: 0.9914 - val_loss: 0.0452 - val_accuracy: 0.9857\n"
     ]
    },
    {
     "data": {
      "image/png": "[encoded data removed]",
      "text/plain": [
       "<Figure size 640x480 with 1 Axes>"
      ]
     },
     "metadata": {},
     "output_type": "display_data"
    },
    {
     "name": "stdout",
     "output_type": "stream",
     "text": [
      "132/132 [==============================] - 1s 7ms/step - loss: 0.0506 - accuracy: 0.9855\n",
      "Test Loss: 0.0506\n",
      "Test Accuracy: 0.9855\n",
      "-------------------\n"
     ]
    }
   ],
   "source": [
    "pipeline(features, labels)"
   ]
  },
  {
   "cell_type": "markdown",
   "metadata": {},
   "source": [
    "### Data Loading"
   ]
  },
  {
   "cell_type": "code",
   "execution_count": 86,
   "metadata": {},
   "outputs": [],
   "source": [
    "X_train_tensor = torch.FloatTensor(X_train)\n",
    "y_train_tensor = torch.LongTensor(y_train)\n",
    "X_test_tensor = torch.FloatTensor(X_test)\n",
    "y_test_tensor = torch.LongTensor(y_test)\n",
    "\n",
    "train_dataset = TensorDataset(X_train_tensor, y_train_tensor)\n",
    "test_dataset = TensorDataset(X_test_tensor, y_test_tensor)\n",
    "\n",
    "train_loader = DataLoader(train_dataset, batch_size=32, shuffle=True)\n",
    "test_loader = DataLoader(test_dataset, batch_size=32, shuffle=False)"
   ]
  },
  {
   "cell_type": "markdown",
   "metadata": {},
   "source": [
    "### Defining CNN"
   ]
  },
  {
   "cell_type": "code",
   "execution_count": 87,
   "metadata": {},
   "outputs": [],
   "source": [
    "class CNN(nn.Module):\n",
    "    def __init__(self):\n",
    "        super(CNN, self).__init__()\n",
    "        self.conv1 = nn.Conv2d(1, 32, kernel_size=3, stride=1, padding=1) \n",
    "        self.relu = nn.ReLU()\n",
    "        self.maxpool = nn.MaxPool2d(kernel_size=2, stride=2)\n",
    "        self.conv2 = nn.Conv2d(32, 64, kernel_size=3, stride=1, padding=1)\n",
    "        self.flatten = nn.Flatten()\n",
    "        self.fc1 = nn.Linear(64 * 7 * 7, 128)\n",
    "        self.fc2 = nn.Linear(128, 10)  # Output layer with 10 classes\n",
    "\n",
    "    def forward(self, x):\n",
    "        x = self.conv1(x)\n",
    "        x = self.relu(x)\n",
    "        x = self.maxpool(x)\n",
    "        x = self.conv2(x)\n",
    "        x = self.relu(x)\n",
    "        x = self.maxpool(x)\n",
    "        x = self.flatten(x)\n",
    "        x = self.fc1(x)\n",
    "        x = self.relu(x)\n",
    "        x = self.fc2(x)\n",
    "        return x"
   ]
  },
  {
   "cell_type": "markdown",
   "metadata": {},
   "source": [
    "### Setting Up Model"
   ]
  },
  {
   "cell_type": "code",
   "execution_count": 88,
   "metadata": {},
   "outputs": [],
   "source": [
    "model = CNN() # instantiate the model\n",
    "criterion = nn.CrossEntropyLoss() # loss function\n",
    "optimizer = optim.Adam(model.parameters(), lr=0.001) # optimizer"
   ]
  },
  {
   "cell_type": "markdown",
   "metadata": {},
   "source": [
    "### Training CNN"
   ]
  },
  {
   "cell_type": "code",
   "execution_count": 93,
   "metadata": {},
   "outputs": [
    {
     "name": "stderr",
     "output_type": "stream",
     "text": [
      "  0%|          | 0/10 [00:00<?, ?it/s]"
     ]
    },
    {
     "name": "stderr",
     "output_type": "stream",
     "text": [
      "100%|██████████| 10/10 [06:51<00:00, 41.18s/it]\n"
     ]
    }
   ],
   "source": [
    "num_epochs = 10\n",
    "for epoch in tqdm(range(num_epochs)):\n",
    "    model.train()\n",
    "    for inputs, labels in train_loader:\n",
    "        optimizer.zero_grad()\n",
    "        inputs = inputs.view(-1, 1, 28, 28)  # Reshape input to [batch_size, channels, height, width]\n",
    "        outputs = model(inputs)\n",
    "        loss = criterion(outputs, labels)\n",
    "        loss.backward()\n",
    "        optimizer.step()"
   ]
  },
  {
   "cell_type": "markdown",
   "metadata": {},
   "source": [
    "### Evaluating CNN"
   ]
  },
  {
   "cell_type": "code",
   "execution_count": 95,
   "metadata": {},
   "outputs": [],
   "source": [
    "model.eval()\n",
    "with torch.no_grad():\n",
    "    all_predictions = []\n",
    "    for inputs, labels in test_loader:\n",
    "        inputs = inputs.view(-1, 1, 28, 28)  # Reshape input to [batch_size, channels, height, width]\n",
    "        outputs = model(inputs)\n",
    "        _, predictions = torch.max(outputs, 1)\n",
    "        all_predictions.extend(predictions.numpy())"
   ]
  },
  {
   "cell_type": "markdown",
   "metadata": {},
   "source": [
    "### Calculating Accuracy"
   ]
  },
  {
   "cell_type": "code",
   "execution_count": 100,
   "metadata": {},
   "outputs": [
    {
     "name": "stdout",
     "output_type": "stream",
     "text": [
      "Accuracy of the model: 0.9868\n"
     ]
    }
   ],
   "source": [
    "accuracy = accuracy_score(test_dataset.tensors[1].numpy(), all_predictions)\n",
    "print(f\"Accuracy of the model: {accuracy:.4f}\")"
   ]
  },
  {
   "cell_type": "markdown",
   "metadata": {},
   "source": [
    "### Importing Packages For Transfer Learning"
   ]
  },
  {
   "cell_type": "code",
   "execution_count": 128,
   "metadata": {},
   "outputs": [],
   "source": [
    "import tensorflow as tf\n",
    "from tensorflow import keras\n",
    "from tensorflow.keras import layers as L\n",
    "from tensorflow.keras.models import Sequential\n",
    "from tensorflow.keras.preprocessing.image import ImageDataGenerator\n",
    "from tensorflow.keras.preprocessing.image import load_img, img_to_array, array_to_img"
   ]
  },
  {
   "cell_type": "markdown",
   "metadata": {},
   "source": [
    "### Label Encoding"
   ]
  },
  {
   "cell_type": "code",
   "execution_count": 124,
   "metadata": {},
   "outputs": [
    {
     "data": {
      "text/html": [
       "<div>\n",
       "<style scoped>\n",
       "    .dataframe tbody tr th:only-of-type {\n",
       "        vertical-align: middle;\n",
       "    }\n",
       "\n",
       "    .dataframe tbody tr th {\n",
       "        vertical-align: top;\n",
       "    }\n",
       "\n",
       "    .dataframe thead th {\n",
       "        text-align: right;\n",
       "    }\n",
       "</style>\n",
       "<table border=\"1\" class=\"dataframe\">\n",
       "  <thead>\n",
       "    <tr style=\"text-align: right;\">\n",
       "      <th></th>\n",
       "      <th>pixel0</th>\n",
       "      <th>pixel1</th>\n",
       "      <th>pixel2</th>\n",
       "      <th>pixel3</th>\n",
       "      <th>pixel4</th>\n",
       "      <th>pixel5</th>\n",
       "      <th>pixel6</th>\n",
       "      <th>pixel7</th>\n",
       "      <th>pixel8</th>\n",
       "      <th>pixel9</th>\n",
       "      <th>...</th>\n",
       "      <th>pixel774</th>\n",
       "      <th>pixel775</th>\n",
       "      <th>pixel776</th>\n",
       "      <th>pixel777</th>\n",
       "      <th>pixel778</th>\n",
       "      <th>pixel779</th>\n",
       "      <th>pixel780</th>\n",
       "      <th>pixel781</th>\n",
       "      <th>pixel782</th>\n",
       "      <th>pixel783</th>\n",
       "    </tr>\n",
       "  </thead>\n",
       "  <tbody>\n",
       "    <tr>\n",
       "      <th>0</th>\n",
       "      <td>0</td>\n",
       "      <td>0</td>\n",
       "      <td>0</td>\n",
       "      <td>0</td>\n",
       "      <td>0</td>\n",
       "      <td>0</td>\n",
       "      <td>0</td>\n",
       "      <td>0</td>\n",
       "      <td>0</td>\n",
       "      <td>0</td>\n",
       "      <td>...</td>\n",
       "      <td>0</td>\n",
       "      <td>0</td>\n",
       "      <td>0</td>\n",
       "      <td>0</td>\n",
       "      <td>0</td>\n",
       "      <td>0</td>\n",
       "      <td>0</td>\n",
       "      <td>0</td>\n",
       "      <td>0</td>\n",
       "      <td>0</td>\n",
       "    </tr>\n",
       "  </tbody>\n",
       "</table>\n",
       "<p>1 rows × 784 columns</p>\n",
       "</div>"
      ],
      "text/plain": [
       "   pixel0  pixel1  pixel2  pixel3  pixel4  pixel5  pixel6  pixel7  pixel8  \\\n",
       "0       0       0       0       0       0       0       0       0       0   \n",
       "\n",
       "   pixel9  ...  pixel774  pixel775  pixel776  pixel777  pixel778  pixel779  \\\n",
       "0       0  ...         0         0         0         0         0         0   \n",
       "\n",
       "   pixel780  pixel781  pixel782  pixel783  \n",
       "0         0         0         0         0  \n",
       "\n",
       "[1 rows x 784 columns]"
      ]
     },
     "execution_count": 124,
     "metadata": {},
     "output_type": "execute_result"
    }
   ],
   "source": [
    "orig_labels = train['label']\n",
    "y = tf.keras.utils.to_categorical(orig_labels) # one-hot encoding\n",
    "train.drop('label', axis=1, inplace=True)\n",
    "train.head(1)"
   ]
  },
  {
   "cell_type": "markdown",
   "metadata": {},
   "source": [
    "### Preparing Data"
   ]
  },
  {
   "cell_type": "code",
   "execution_count": 125,
   "metadata": {},
   "outputs": [
    {
     "data": {
      "text/plain": [
       "(42000, 28, 28, 1)"
      ]
     },
     "execution_count": 125,
     "metadata": {},
     "output_type": "execute_result"
    }
   ],
   "source": [
    "train_arr = np.array(train).reshape(-1, 28, 28, 1)\n",
    "train_arr.shape"
   ]
  },
  {
   "cell_type": "code",
   "execution_count": 129,
   "metadata": {},
   "outputs": [],
   "source": [
    "def change_size(image):\n",
    "    img = array_to_img(image, scale=False) #returns PIL Image\n",
    "    img = img.resize((75, 75)) #resize image\n",
    "    img = img.convert(mode='RGB') #makes 3 channels\n",
    "    arr = img_to_array(img) #convert back to array\n",
    "    return arr.astype(np.float64)"
   ]
  },
  {
   "cell_type": "code",
   "execution_count": 130,
   "metadata": {},
   "outputs": [
    {
     "data": {
      "text/plain": [
       "(42000, 75, 75, 3)"
      ]
     },
     "execution_count": 130,
     "metadata": {},
     "output_type": "execute_result"
    }
   ],
   "source": [
    "train_arr_75 = [change_size(img) for img in train_arr] #resize all images\n",
    "del train_arr\n",
    "train_arr_75 = np.array(train_arr_75)\n",
    "train_arr_75.shape"
   ]
  },
  {
   "cell_type": "markdown",
   "metadata": {},
   "source": [
    "### Creating Generators"
   ]
  },
  {
   "cell_type": "code",
   "execution_count": 134,
   "metadata": {},
   "outputs": [],
   "source": [
    "image_gen = ImageDataGenerator(rescale=1./255, #easier for network to interpret numbers in range [0,1]\n",
    "                              zoom_range=0.1,\n",
    "                              width_shift_range=0.2,\n",
    "                              height_shift_range=0.2,\n",
    "                              validation_split=0.2) # 80/20 train/val split\n",
    "\n",
    "train_generator = image_gen.flow(train_arr_75, \n",
    "                                 y,\n",
    "                                batch_size=32,\n",
    "                                shuffle=True,\n",
    "                                subset='training',\n",
    "                                seed=42)\n",
    "valid_generator = image_gen.flow(train_arr_75,\n",
    "                                 y,\n",
    "                                batch_size=16,\n",
    "                                shuffle=True,\n",
    "                                subset='validation')\n",
    "del train_arr_75 "
   ]
  },
  {
   "cell_type": "markdown",
   "metadata": {},
   "source": [
    "### Importing Pretrained Model"
   ]
  },
  {
   "cell_type": "code",
   "execution_count": 135,
   "metadata": {},
   "outputs": [],
   "source": [
    "model = Sequential()\n",
    "\n",
    "model.add(tf.keras.applications.resnet50.ResNet50(input_shape = (75, 75, 3), \n",
    "                                include_top = False, \n",
    "                                weights = 'imagenet'))\n",
    "\n",
    "model.add(L.Flatten())\n",
    "model.add(L.Dense(128, activation='relu'))\n",
    "model.add(L.Dense(10, activation='softmax'))\n",
    "\n",
    "model.compile(optimizer=keras.optimizers.Adam(learning_rate=0.0001), loss='categorical_crossentropy', metrics=['accuracy'])"
   ]
  },
  {
   "cell_type": "markdown",
   "metadata": {},
   "source": [
    "### Freezing Layers"
   ]
  },
  {
   "cell_type": "code",
   "execution_count": 136,
   "metadata": {},
   "outputs": [],
   "source": [
    "for layer in model.layers[0].layers:\n",
    "    if layer.name == 'conv5_block1_0_conv':\n",
    "        break\n",
    "    layer.trainable=False"
   ]
  },
  {
   "cell_type": "markdown",
   "metadata": {},
   "source": [
    "### Training"
   ]
  },
  {
   "cell_type": "code",
   "execution_count": 137,
   "metadata": {},
   "outputs": [
    {
     "name": "stdout",
     "output_type": "stream",
     "text": [
      "Epoch 1/5\n",
      "1050/1050 [==============================] - 3785s 4s/step - loss: 0.1977 - accuracy: 0.9425 - val_loss: 0.3730 - val_accuracy: 0.8877\n",
      "Epoch 2/5\n",
      "1050/1050 [==============================] - 3491s 3s/step - loss: 0.0749 - accuracy: 0.9803 - val_loss: 0.0686 - val_accuracy: 0.9819\n",
      "Epoch 3/5\n",
      "1050/1050 [==============================] - 3250s 3s/step - loss: 0.0519 - accuracy: 0.9854 - val_loss: 0.0468 - val_accuracy: 0.9861\n",
      "Epoch 4/5\n",
      "1050/1050 [==============================] - 3236s 3s/step - loss: 0.0567 - accuracy: 0.9856 - val_loss: 0.0429 - val_accuracy: 0.9894\n",
      "Epoch 5/5\n",
      "1050/1050 [==============================] - 3238s 3s/step - loss: 0.0488 - accuracy: 0.9872 - val_loss: 0.0479 - val_accuracy: 0.9875\n"
     ]
    }
   ],
   "source": [
    "#WARNING: training takes very long\n",
    "history = model.fit(train_generator, validation_data=valid_generator, epochs=5, \n",
    "          steps_per_epoch=train_generator.n//train_generator.batch_size,\n",
    "         validation_steps=valid_generator.n//valid_generator.batch_size)"
   ]
  },
  {
   "cell_type": "markdown",
   "metadata": {},
   "source": [
    "### Evaluating Model"
   ]
  },
  {
   "cell_type": "code",
   "execution_count": 138,
   "metadata": {},
   "outputs": [
    {
     "name": "stdout",
     "output_type": "stream",
     "text": [
      "525/525 [==============================] - 217s 409ms/step - loss: 0.0485 - accuracy: 0.9868\n",
      "Validation Loss: 0.0485\n",
      "Validation Accuracy: 98.68%\n"
     ]
    }
   ],
   "source": [
    "evaluation = model.evaluate(valid_generator, steps=valid_generator.n // valid_generator.batch_size)\n",
    "\n",
    "# 'evaluation' will contain the loss value and any additional metrics specified during model compilation\n",
    "print(\"Validation Loss: {:.4f}\".format(evaluation[0]))\n",
    "print(\"Validation Accuracy: {:.2f}%\".format(evaluation[1] * 100))"
   ]
  }
 ],
 "metadata": {
  "kernelspec": {
   "display_name": "Python 3",
   "language": "python",
   "name": "python3"
  },
  "language_info": {
   "codemirror_mode": {
    "name": "ipython",
    "version": 3
   },
   "file_extension": ".py",
   "mimetype": "text/x-python",
   "name": "python",
   "nbconvert_exporter": "python",
   "pygments_lexer": "ipython3",
   "version": "3.10.7"
  }
 },
 "nbformat": 4,
 "nbformat_minor": 2
}
